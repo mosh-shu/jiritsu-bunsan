{
 "cells": [
  {
   "cell_type": "markdown",
   "metadata": {},
   "source": [
    "# Distributed Partitioned Sort\n",
    "\n",
    "### さっき渡した数がもっかい返ってきたら、なおかつ今渡した数がさっきの数より小さければソート完了\n",
    "\n",
    "Q1: Ｐ１からＰ１０までの各プロセスにランダムに選ばれた１０個の整数が初期の値として与えられた時、どのようにしてソートすることができるか？日本語でのアルゴリズムの記述と以下の擬似言語とDirect IPCプリミティブを使って記述せよ。  \n",
    "＜仮定＞  \n",
    "各プロセスは、P1から順に横一列に並んでおり、自分の隣接しているプロセスとのみ交信出来るものとする。  \n",
    "各プロセスは、自分のpidと協調しているプロセスの総数mは、与えられているとする。  \n",
    "右側のプロセスのpidは、 pid=succ(i), 左側のプロセスのpidは、  \n",
    "Pid =pred(i)で特定できるとする。  \n",
    "```Process Pi(pid i, int m, int card[10])　／＊　process id, 総プロセス数, カード　＊／    \n",
    "{  \n",
    "init();  \n",
    "while (1) {  \n",
    "…  \n",
    "do_exchange( );  \n",
    "…  \n",
    "if (termination_condition() == true) exit;  \n",
    "}  \n",
    "}  \n",
    "```    \n",
    "Q2: 各プロセスは、どのような条件で、ソートが終了したことを判定できるかを述べよ\n",
    "\n"
   ]
  },
  {
   "cell_type": "code",
   "execution_count": 36,
   "metadata": {},
   "outputs": [],
   "source": [
    "import numpy as np\n",
    "import copy"
   ]
  },
  {
   "cell_type": "code",
   "execution_count": 50,
   "metadata": {},
   "outputs": [],
   "source": [
    "n_processes = 10\n",
    "n_cards = 10\n",
    "# np.random.seed(seed=1)\n",
    "unsortArray = np.random.randint(1, 1000, (n_processes, n_cards))\n",
    "sortArray = np.zeros((n_processes, n_cards))"
   ]
  },
  {
   "cell_type": "code",
   "execution_count": 51,
   "metadata": {},
   "outputs": [],
   "source": [
    "tmp = np.zeros((n_processes, 2))\n",
    "prev_tmp = np.zeros((n_processes, 2))\n",
    "prevprev_tmp = np.zeros((n_processes, 2))\n",
    "sortedProcess = np.zeros(n_processes-1, dtype=bool)"
   ]
  },
  {
   "cell_type": "code",
   "execution_count": 52,
   "metadata": {},
   "outputs": [],
   "source": [
    "# while not sortedProcess.all():\n",
    "#     for process in range(n_processes):\n",
    "#         # take out min and max in each process\n",
    "#         unsortArray[process] = np.sort(unsortArray[process])\n",
    "#         tmp[process][0]  = unsortArray[process][0]\n",
    "#         tmp[process][-1] = unsortArray[process][-1]\n",
    "#     for process in range(n_processes - 1):\n",
    "#         # swap min and max\n",
    "#         if prevprev_tmp[process+1][0] == tmp[process+1][0] and \\\n",
    "#            prevprev_tmp[process][-1]  == tmp[process][-1] and \\\n",
    "#            prevprev_tmp[process][-1]  <= tmp[process+1][0]:\n",
    "#             sortedProcess[process] = True\n",
    "#         if not sortedProcess[process]:\n",
    "#             unsortArray[process][-1]  = tmp[process+1][0]\n",
    "#             unsortArray[process+1][0] = tmp[process][-1]\n",
    "#     prevprev_tmp = copy.copy(prev_tmp)\n",
    "#     prev_tmp = copy.copy(tmp)"
   ]
  },
  {
   "cell_type": "code",
   "execution_count": 53,
   "metadata": {
    "slideshow": {
     "slide_type": "slide"
    }
   },
   "outputs": [],
   "source": [
    "while not sortedProcess.all():\n",
    "    for process in range(n_processes):\n",
    "        # take out min and max in each process\n",
    "        unsortArray[process] = np.sort(unsortArray[process])\n",
    "        tmp[process][0]  = unsortArray[process][0]\n",
    "        tmp[process][-1] = unsortArray[process][-1]\n",
    "    for process in range(n_processes - 1):\n",
    "        # swap min and max\n",
    "        if prevprev_tmp[process][-1]  == tmp[process][-1] and \\\n",
    "           prev_tmp[process][-1]  >= tmp[process][-1]:\n",
    "            sortedProcess[process] = True\n",
    "        if not sortedProcess[process]:\n",
    "            unsortArray[process][-1]  = tmp[process+1][0]\n",
    "            unsortArray[process+1][0] = tmp[process][-1]\n",
    "    prevprev_tmp = copy.copy(prev_tmp)\n",
    "    prev_tmp = copy.copy(tmp)"
   ]
  },
  {
   "cell_type": "code",
   "execution_count": 54,
   "metadata": {},
   "outputs": [
    {
     "name": "stdout",
     "output_type": "stream",
     "text": [
      "True\n"
     ]
    }
   ],
   "source": [
    "sortedArray = unsortArray.flatten()\n",
    "print((sortedArray == np.sort(sortedArray)).all())"
   ]
  },
  {
   "cell_type": "code",
   "execution_count": 47,
   "metadata": {},
   "outputs": [
    {
     "ename": "SyntaxError",
     "evalue": "unexpected EOF while parsing (<ipython-input-47-0b255ac04ae0>, line 3)",
     "output_type": "error",
     "traceback": [
      "\u001b[0;36m  File \u001b[0;32m\"<ipython-input-47-0b255ac04ae0>\"\u001b[0;36m, line \u001b[0;32m3\u001b[0m\n\u001b[0;31m    \u001b[0m\n\u001b[0m    ^\u001b[0m\n\u001b[0;31mSyntaxError\u001b[0m\u001b[0;31m:\u001b[0m unexpected EOF while parsing\n"
     ]
    }
   ],
   "source": [
    "def pi(pid, m, cards):\n",
    "    # process id, 総プロセス数, 自分のカード\n",
    "    "
   ]
  },
  {
   "cell_type": "code",
   "execution_count": 221,
   "metadata": {},
   "outputs": [
    {
     "ename": "NameError",
     "evalue": "name 'pi' is not defined",
     "output_type": "error",
     "traceback": [
      "\u001b[0;31m---------------------------------------------------------------------------\u001b[0m",
      "\u001b[0;31mNameError\u001b[0m                                 Traceback (most recent call last)",
      "\u001b[0;32m<ipython-input-221-f84ab820532c>\u001b[0m in \u001b[0;36m<module>\u001b[0;34m\u001b[0m\n\u001b[0;32m----> 1\u001b[0;31m \u001b[0mpi\u001b[0m\u001b[0;34m\u001b[0m\u001b[0;34m\u001b[0m\u001b[0m\n\u001b[0m",
      "\u001b[0;31mNameError\u001b[0m: name 'pi' is not defined"
     ]
    }
   ],
   "source": []
  },
  {
   "cell_type": "code",
   "execution_count": null,
   "metadata": {},
   "outputs": [],
   "source": [
    "Process Pi(pid i, int m, int card[10])　／＊　process id, 総プロセス数, カード　＊／    \n",
    "{  \n",
    "init();  \n",
    "while (1) {  \n",
    "    if \n",
    "    \n",
    "do_exchange( );  \n",
    "…  \n",
    "if (termination_condition() == true) exit;  \n",
    "}  \n",
    "}  "
   ]
  },
  {
   "cell_type": "code",
   "execution_count": 215,
   "metadata": {},
   "outputs": [
    {
     "data": {
      "text/plain": [
       "array([[  1,   2,   3,   4,   9,   9,  10,  10,  12,  15,  15,  17,  19,\n",
       "         22,  23,  23,  24,  24,  25,  25,  25,  25,  25,  25,  25,  26,\n",
       "         26,  28,  30,  30,  30,  31,  33,  34,  34,  35,  35,  36,  37,\n",
       "         38,  38,  39,  39,  39,  39,  40,  43,  43,  43,  44,  45,  46,\n",
       "         46,  47,  49,  49,  49,  53,  53,  53,  56,  57,  58,  60,  60,\n",
       "         62,  62,  63,  64,  65,  67,  67,  68,  69,  70,  71,  72,  74,\n",
       "         74,  74,  77,  78,  78,  78,  79,  81,  83,  85,  86,  88,  89,\n",
       "         90,  91,  92,  93,  93,  94,  94,  95,  95],\n",
       "       [ 96,  99, 100, 101, 102, 104, 105, 106, 106, 106, 107, 107, 107,\n",
       "        107, 111, 113, 113, 114, 116, 116, 120, 122, 123, 123, 124, 125,\n",
       "        125, 128, 128, 128, 128, 129, 129, 129, 129, 130, 130, 131, 131,\n",
       "        133, 134, 135, 135, 136, 136, 138, 141, 142, 143, 144, 144, 149,\n",
       "        153, 153, 155, 155, 155, 156, 156, 157, 157, 158, 162, 163, 164,\n",
       "        165, 165, 167, 167, 169, 169, 169, 170, 174, 175, 175, 176, 176,\n",
       "        179, 179, 179, 181, 181, 182, 183, 184, 184, 184, 184, 186, 186,\n",
       "        187, 187, 189, 190, 190, 191, 191, 192, 194],\n",
       "       [195, 197, 199, 199, 200, 200, 201, 201, 202, 203, 203, 203, 205,\n",
       "        207, 207, 208, 208, 208, 209, 210, 210, 211, 212, 212, 213, 213,\n",
       "        213, 214, 217, 218, 218, 220, 222, 223, 224, 226, 226, 227, 227,\n",
       "        229, 230, 230, 230, 231, 234, 236, 237, 239, 239, 239, 241, 241,\n",
       "        241, 241, 242, 243, 245, 246, 250, 250, 250, 251, 251, 252, 252,\n",
       "        253, 254, 255, 255, 257, 258, 259, 259, 260, 261, 262, 262, 262,\n",
       "        262, 262, 263, 264, 264, 264, 264, 264, 267, 269, 269, 270, 270,\n",
       "        271, 271, 273, 274, 275, 279, 281, 281, 282],\n",
       "       [282, 282, 284, 284, 285, 288, 289, 289, 291, 294, 294, 294, 296,\n",
       "        297, 297, 297, 302, 303, 304, 310, 314, 316, 320, 320, 320, 321,\n",
       "        323, 324, 325, 326, 328, 328, 329, 329, 330, 332, 332, 333, 334,\n",
       "        335, 335, 337, 337, 339, 339, 340, 341, 342, 342, 342, 344, 344,\n",
       "        345, 346, 349, 349, 351, 351, 351, 352, 354, 358, 359, 359, 359,\n",
       "        360, 361, 362, 362, 363, 364, 365, 365, 365, 366, 369, 370, 371,\n",
       "        371, 372, 373, 375, 375, 375, 376, 378, 378, 381, 384, 385, 385,\n",
       "        386, 386, 388, 390, 391, 391, 391, 392, 392],\n",
       "       [392, 392, 393, 398, 399, 401, 402, 405, 405, 405, 407, 407, 407,\n",
       "        408, 410, 410, 411, 413, 413, 415, 415, 417, 417, 418, 419, 419,\n",
       "        419, 419, 420, 420, 420, 422, 422, 423, 423, 424, 426, 426, 427,\n",
       "        428, 430, 431, 438, 438, 440, 441, 441, 442, 442, 442, 444, 444,\n",
       "        445, 446, 447, 447, 447, 447, 448, 448, 448, 449, 453, 453, 454,\n",
       "        457, 457, 458, 460, 460, 460, 461, 462, 463, 464, 464, 464, 466,\n",
       "        467, 468, 469, 469, 470, 471, 473, 475, 475, 476, 476, 476, 477,\n",
       "        477, 478, 479, 481, 483, 485, 486, 486, 487],\n",
       "       [490, 492, 492, 492, 493, 493, 494, 494, 498, 498, 499, 501, 502,\n",
       "        504, 505, 506, 508, 508, 508, 509, 509, 511, 511, 513, 515, 515,\n",
       "        515, 516, 518, 521, 521, 524, 524, 525, 527, 532, 533, 533, 534,\n",
       "        535, 537, 538, 538, 542, 544, 545, 546, 550, 552, 552, 552, 554,\n",
       "        556, 557, 558, 560, 562, 562, 565, 566, 566, 566, 567, 567, 568,\n",
       "        568, 569, 570, 571, 571, 572, 573, 574, 575, 576, 577, 577, 577,\n",
       "        579, 580, 581, 582, 582, 583, 583, 584, 586, 586, 586, 588, 588,\n",
       "        591, 592, 593, 593, 594, 595, 595, 595, 595],\n",
       "       [598, 600, 600, 600, 602, 602, 604, 604, 605, 608, 609, 609, 609,\n",
       "        612, 612, 613, 613, 615, 616, 619, 622, 622, 622, 623, 624, 625,\n",
       "        626, 626, 627, 628, 628, 629, 629, 629, 629, 631, 631, 631, 632,\n",
       "        632, 636, 637, 639, 639, 640, 640, 640, 641, 641, 642, 643, 645,\n",
       "        646, 648, 648, 651, 653, 654, 655, 656, 657, 657, 661, 663, 664,\n",
       "        666, 668, 668, 669, 670, 671, 671, 672, 672, 672, 674, 675, 677,\n",
       "        677, 677, 678, 678, 678, 678, 678, 679, 680, 681, 681, 683, 684,\n",
       "        685, 687, 690, 690, 691, 691, 692, 692, 693],\n",
       "       [693, 693, 696, 698, 698, 698, 698, 699, 699, 699, 700, 701, 704,\n",
       "        705, 709, 709, 710, 710, 710, 712, 713, 716, 717, 718, 719, 719,\n",
       "        721, 723, 723, 724, 724, 724, 728, 729, 734, 734, 734, 735, 736,\n",
       "        737, 738, 738, 739, 740, 741, 742, 743, 744, 744, 746, 746, 746,\n",
       "        747, 747, 748, 751, 751, 751, 753, 754, 754, 755, 755, 757, 759,\n",
       "        759, 761, 764, 765, 765, 766, 767, 768, 768, 769, 770, 771, 775,\n",
       "        776, 779, 780, 781, 781, 783, 783, 783, 786, 786, 786, 788, 789,\n",
       "        790, 793, 793, 794, 794, 801, 801, 801, 803],\n",
       "       [806, 808, 808, 810, 811, 815, 815, 815, 816, 818, 819, 820, 820,\n",
       "        821, 821, 822, 823, 823, 824, 826, 829, 829, 829, 829, 831, 832,\n",
       "        834, 835, 836, 837, 839, 840, 841, 841, 844, 844, 845, 845, 846,\n",
       "        846, 847, 848, 850, 850, 851, 851, 851, 852, 852, 853, 854, 855,\n",
       "        858, 859, 859, 860, 860, 860, 860, 860, 861, 864, 864, 865, 865,\n",
       "        866, 870, 872, 873, 874, 874, 874, 876, 876, 878, 879, 879, 879,\n",
       "        882, 882, 885, 887, 887, 888, 888, 889, 890, 891, 892, 894, 894,\n",
       "        894, 895, 897, 899, 900, 900, 901, 901, 905],\n",
       "       [905, 908, 909, 909, 909, 911, 912, 912, 913, 913, 915, 917, 918,\n",
       "        920, 921, 925, 925, 926, 926, 928, 929, 931, 934, 935, 935, 935,\n",
       "        936, 938, 941, 941, 942, 942, 943, 943, 943, 944, 944, 945, 945,\n",
       "        948, 949, 949, 949, 949, 951, 951, 953, 953, 955, 955, 957, 957,\n",
       "        958, 962, 962, 963, 963, 965, 966, 966, 968, 970, 970, 971, 971,\n",
       "        972, 973, 973, 976, 977, 977, 978, 979, 982, 983, 983, 984, 984,\n",
       "        984, 984, 984, 985, 986, 986, 986, 988, 988, 988, 993, 993, 993,\n",
       "        994, 995, 996, 996, 996, 997, 998, 999, 999]])"
      ]
     },
     "execution_count": 215,
     "metadata": {},
     "output_type": "execute_result"
    }
   ],
   "source": [
    "unsortArray"
   ]
  },
  {
   "cell_type": "code",
   "execution_count": null,
   "metadata": {},
   "outputs": [],
   "source": []
  }
 ],
 "metadata": {
  "kernelspec": {
   "display_name": "Python 3",
   "language": "python",
   "name": "python3"
  },
  "language_info": {
   "codemirror_mode": {
    "name": "ipython",
    "version": 3
   },
   "file_extension": ".py",
   "mimetype": "text/x-python",
   "name": "python",
   "nbconvert_exporter": "python",
   "pygments_lexer": "ipython3",
   "version": "3.7.2"
  }
 },
 "nbformat": 4,
 "nbformat_minor": 2
}
