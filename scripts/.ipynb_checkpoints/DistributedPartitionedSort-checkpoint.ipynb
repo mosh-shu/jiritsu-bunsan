{
 "cells": [
  {
   "cell_type": "markdown",
   "metadata": {
    "toc-hr-collapsed": false
   },
   "source": [
    "# Distributed Partitioned Sort"
   ]
  },
  {
   "cell_type": "markdown",
   "metadata": {},
   "source": [
    "## 課題"
   ]
  },
  {
   "cell_type": "markdown",
   "metadata": {},
   "source": [
    "Q1: Ｐ１からＰ１０までの各プロセスにランダムに選ばれた１０個の整数が初期の値として与えられた時、どのようにしてソートすることができるか？日本語でのアルゴリズムの記述と以下の擬似言語とDirect IPCプリミティブを使って記述せよ。  \n",
    "＜仮定＞  \n",
    "各プロセスは、P1から順に横一列に並んでおり、自分の隣接しているプロセスとのみ交信出来るものとする。  \n",
    "各プロセスは、自分のpidと協調しているプロセスの総数mは、与えられているとする。  \n",
    "右側のプロセスのpidは、 pid=succ(i), 左側のプロセスのpidは、  \n",
    "Pid =pred(i)で特定できるとする。  \n",
    "```Process Pi(pid i, int m, int card[10])　／＊　process id, 総プロセス数, カード　＊／    \n",
    "{  \n",
    "init();  \n",
    "while (1) {  \n",
    "…  \n",
    "do_exchange( );  \n",
    "…  \n",
    "if (termination_condition() == true) exit;  \n",
    "}  \n",
    "}  \n",
    "```    \n",
    "Q2: 各プロセスは、どのような条件で、ソートが終了したことを判定できるかを述べよ"
   ]
  },
  {
   "cell_type": "markdown",
   "metadata": {},
   "source": [
    "## コード"
   ]
  },
  {
   "cell_type": "code",
   "execution_count": 29,
   "metadata": {},
   "outputs": [],
   "source": [
    "import numpy as np\n",
    "import copy"
   ]
  },
  {
   "cell_type": "code",
   "execution_count": 30,
   "metadata": {},
   "outputs": [],
   "source": [
    "n_processes = 10\n",
    "n_cards = 10\n",
    "# np.random.seed(seed=1)\n",
    "unsortArray = np.random.randint(1, 1000, (n_processes, n_cards))\n",
    "sortArray = np.zeros((n_processes, n_cards))"
   ]
  },
  {
   "cell_type": "code",
   "execution_count": 31,
   "metadata": {},
   "outputs": [],
   "source": [
    "tmp = np.zeros((n_processes, 2))\n",
    "prev_tmp = np.zeros((n_processes, 2))\n",
    "prevprev_tmp = np.zeros((n_processes, 2))\n",
    "sortedProcess = np.zeros(n_processes-1, dtype=bool)\n"
   ]
  },
  {
   "cell_type": "code",
   "execution_count": 32,
   "metadata": {},
   "outputs": [],
   "source": [
    "# while not sortedProcess.all():\n",
    "#     for process in range(n_processes):\n",
    "#         # take out min and max in each process\n",
    "#         unsortArray[process] = np.sort(unsortArray[process])\n",
    "#         tmp[process][0]  = unsortArray[process][0]\n",
    "#         tmp[process][-1] = unsortArray[process][-1]\n",
    "#     for process in range(n_processes - 1):\n",
    "#         # swap min and max\n",
    "#         if prevprev_tmp[process+1][0] == tmp[process+1][0] and \\\n",
    "#            prevprev_tmp[process][-1]  == tmp[process][-1] and \\\n",
    "#            prevprev_tmp[process][-1]  <= tmp[process+1][0]:\n",
    "#             sortedProcess[process] = True\n",
    "#         if not sortedProcess[process]:\n",
    "#             unsortArray[process][-1]  = tmp[process+1][0]\n",
    "#             unsortArray[process+1][0] = tmp[process][-1]\n",
    "#     prevprev_tmp = copy.copy(prev_tmp)\n",
    "#     prev_tmp = copy.copy(tmp)\n"
   ]
  },
  {
   "cell_type": "code",
   "execution_count": 33,
   "metadata": {
    "slideshow": {
     "slide_type": "slide"
    }
   },
   "outputs": [],
   "source": [
    "while not sortedProcess.all():\n",
    "    for process in range(n_processes):\n",
    "        # take out min and max in each process\n",
    "        unsortArray[process] = np.sort(unsortArray[process])\n",
    "        tmp[process][0] = unsortArray[process][0]\n",
    "        tmp[process][-1] = unsortArray[process][-1]\n",
    "    for process in range(n_processes - 1):\n",
    "        # swap min and max\n",
    "        if prevprev_tmp[process][-1] == tmp[process][-1] and \\\n",
    "           prev_tmp[process][-1] >= tmp[process][-1]:\n",
    "            sortedProcess[process] = True\n",
    "        if not sortedProcess[process]:\n",
    "            unsortArray[process][-1] = tmp[process+1][0]\n",
    "            unsortArray[process+1][0] = tmp[process][-1]\n",
    "    prevprev_tmp = copy.copy(prev_tmp)\n",
    "    prev_tmp = copy.copy(tmp)\n"
   ]
  },
  {
   "cell_type": "code",
   "execution_count": 34,
   "metadata": {},
   "outputs": [
    {
     "name": "stdout",
     "output_type": "stream",
     "text": [
      "SORTED!\n"
     ]
    }
   ],
   "source": [
    "# 確認\n",
    "sortedArray = unsortArray.flatten()\n",
    "if (sortedArray == np.sort(sortedArray)).all():\n",
    "    print(\"SORTED!\")\n",
    "else:\n",
    "    print(\"NOT SORTED!\")"
   ]
  },
  {
   "cell_type": "markdown",
   "metadata": {
    "toc-hr-collapsed": false
   },
   "source": [
    "## 提出物"
   ]
  },
  {
   "cell_type": "markdown",
   "metadata": {},
   "source": [
    "### Q1"
   ]
  },
  {
   "cell_type": "markdown",
   "metadata": {},
   "source": [
    "1. 自身の中で数をソートし, 最小-最大の順に並べる\n",
    "2. 最小の数を1つ下のプロセスに, 最大の数を1つ上のプロセスに渡す. ただし, 渡す相手がいない場合はこのプロセスを無視する.\n",
    "3. 1つ下のプロセスと1つ上のプロセスから1つずつカードを受け取る. \n",
    "これを終了条件が訪れるまで繰り返す. "
   ]
  },
  {
   "cell_type": "raw",
   "metadata": {},
   "source": [
    "Process Pi(pid i, int m, int card[10])　/*　process id, 総プロセス数, カード */\n",
    "{  \n",
    "init();  \n",
    "sortedCard = int[10];\n",
    "minHistory = [-1, -1, -1];\n",
    "maxHistory = [-1, -1, -1];\n",
    "minSorted = False;\n",
    "maxSorted = False;\n",
    "\n",
    "while (1) {\n",
    "    sortedCard = sort(pid i, int card[10]); \n",
    "    min = min(sortedCard);\n",
    "    max = max(sortedCard);\n",
    "   \n",
    "    /* min/max of two times units ago*/\n",
    "    minHistory[2] = minHistory[1]; \n",
    "    minHistory[2] = minHistory[1]; \n",
    "\n",
    "    /* min/max of one times unit ago*/\n",
    "    minHistory[1] = minHistory[0]; \n",
    "    minHistory[1] = minHistory[0]; \n",
    "\n",
    "    /* min/max of this times unit*/\n",
    "    minHistory[0] = min;\n",
    "    maxHistory[0] = max;\n",
    "    \n",
    "    /*termination condition*/\n",
    "  \n",
    "    if (minHistory[2] == minHistory[0] && minHistory[1] <= minHistory[0] && minHistory[2] > 0){\n",
    "        /*if I receive a card I sent last last time and if that card if the value of that card if lower than the last card, stop exchaging card with the lower process */\n",
    "        minSorted = True;\n",
    "    }\n",
    "    if (maxHistory[2] == minHistory[0] && maxHistory[1] => minHistory[0] && maxHistory[2] > 0){\n",
    "        /*if I receive a card I sent last last time and if that card if the value of that card if smaller than the last card, stop exchaging card with the higher process */\n",
    "        maxSorted = True;\n",
    "    }\n",
    "\n",
    "    if (minSorted && maxSorted){\n",
    "        /*if exchange with both higher and lower process is stopped, terminated the process*/\n",
    "        exit;\n",
    "    }\n",
    "    \n",
    "\n",
    "    /*do_exchange();*/\n",
    "    \n",
    "    if (i != 1 && !minSorted){\n",
    "        Bsend(pred(i), min); /*一つ下のプロセスに自分が持つ最小の数を渡す*/\n",
    "        Brec(pred(i), sortedCard[end]); /*一つ下のプロセスから最大の数を受け取る*/\n",
    "]    }\n",
    "    \n",
    "    else if(i != m && !maxSorted){\n",
    "        Bsend(succ(i), max); /*一つ上のプロセスに自分が持つ最大の数を渡す*/\n",
    "        Brec(succ(i), sortedCard[0]); /*一つ上のプロセスから最小の数を受け取る*/\n",
    "    }\n",
    "\n",
    "}  "
   ]
  },
  {
   "cell_type": "markdown",
   "metadata": {
    "toc-hr-collapsed": true
   },
   "source": [
    "### Q2"
   ]
  },
  {
   "cell_type": "markdown",
   "metadata": {},
   "source": [
    "1. 現在の時刻をt=0とし, t=-2で相手に渡した数字がt=0自分に返ってきたら, なおかつ\n",
    "    1. 1つ下のプロセスとやり取りしているならばt=0で返ってきた数字がt=-1で受け取った数字よりも大きければ, \n",
    "    2. 1つ上のプロセスとやり取りしているならばt=0で返ってきた数字がt=-1で受け取った数字よりも小さければ, \n",
    "該当プロセスとのやり取りを終了する. \n",
    "2. 上下プロセス両方とのやり取りが終了したら, 自身のプロセスを終了する. "
   ]
  }
 ],
 "metadata": {
  "kernelspec": {
   "display_name": "Python 3",
   "language": "python",
   "name": "python3"
  },
  "language_info": {
   "codemirror_mode": {
    "name": "ipython",
    "version": 3
   },
   "file_extension": ".py",
   "mimetype": "text/x-python",
   "name": "python",
   "nbconvert_exporter": "python",
   "pygments_lexer": "ipython3",
   "version": "3.7.2"
  }
 },
 "nbformat": 4,
 "nbformat_minor": 2
}
